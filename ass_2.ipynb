{
  "nbformat": 4,
  "nbformat_minor": 0,
  "metadata": {
    "colab": {
      "provenance": [],
      "authorship_tag": "ABX9TyPa8iycCh+q9y94zET2qtE4",
      "include_colab_link": true
    },
    "kernelspec": {
      "name": "python3",
      "display_name": "Python 3"
    },
    "language_info": {
      "name": "python"
    }
  },
  "cells": [
    {
      "cell_type": "markdown",
      "metadata": {
        "id": "view-in-github",
        "colab_type": "text"
      },
      "source": [
        "<a href=\"https://colab.research.google.com/github/Prashantthhh/stmlb39/blob/main/ass_2.ipynb\" target=\"_parent\"><img src=\"https://colab.research.google.com/assets/colab-badge.svg\" alt=\"Open In Colab\"/></a>"
      ]
    },
    {
      "cell_type": "markdown",
      "source": [
        "QUESTION-1"
      ],
      "metadata": {
        "id": "ks9lN2dU5CCk"
      }
    },
    {
      "cell_type": "code",
      "execution_count": 1,
      "metadata": {
        "colab": {
          "base_uri": "https://localhost:8080/",
          "height": 514
        },
        "id": "TULQsQfv5BeD",
        "outputId": "b1859983-19b6-4e89-ffcd-95d6b93de4e4"
      },
      "outputs": [
        {
          "output_type": "display_data",
          "data": {
            "text/plain": [
              "<Figure size 800x600 with 1 Axes>"
            ],
            "image/png": "[encoded data removed]"
          },
          "metadata": {}
        }
      ],
      "source": [
        "import numpy as np\n",
        "import matplotlib.pyplot as plt\n",
        "from scipy import stats\n",
        "import pandas as pd\n",
        "#Question 1: compute the density of the data using a histogram with 5 bins\n",
        "x = [1.3,1.5,2.6,2.6,3.2,3.9,4.2,3.7,3.10,3.0,11,6.7,1.9]\n",
        "\n",
        "#Plot histogram with 5 bins\n",
        "plt.figure(figsize=(8,6))\n",
        "plt.hist(x, bins=5,density=True,alpha=0.6,color='g')\n",
        "plt.title('Density of dataset x with 5 bins')\n",
        "plt.xlabel('value')\n",
        "plt.ylabel('Density')\n",
        "plt.show()"
      ]
    },
    {
      "cell_type": "markdown",
      "source": [
        "QUESTION-2"
      ],
      "metadata": {
        "id": "9kGOFVIT5NXu"
      }
    },
    {
      "cell_type": "code",
      "source": [
        "#QUESTION 2: STATISTICAL MEASURES FOR X AND Y\n",
        "x = np.array([12,13,56,23,41,28,51])\n",
        "y = np.array([51,63,37,88,33,72,81])\n",
        "\n",
        "#Function to compute all statistical measures\n",
        "def compute_statistics(data):\n",
        "  mode_resilt = stats.mode(data)\n",
        "  statistics = {\n",
        "      'Mean': np.mean(data),\n",
        "      'Median': np.median(data),\n",
        "      'Variance': np.var(data,ddof=1),\n",
        "      'Standard Deviation': np.std(data,ddof=1),\n",
        "      'Range' :np.ptp(data),\n",
        "      'Interquartile Range (IQR)': np.percentile(data,75)- np.percentile(data,25),\n",
        "      'Skewness' : stats.skew(data),\n",
        "      'Kurtosis' : stats.kurtosis(data)\n",
        "  }\n",
        "  return statistics\n",
        "\n",
        "#Compute statistics for x and y\n",
        "x_statistics = compute_statistics(x)\n",
        "y_statistics = compute_statistics(y)\n",
        "#Print the results\n",
        "print(\"Question 2: Statistical measures for x\")\n",
        "for key,value in x_statistics.items():\n",
        "  print(f\"{key}: {value}\")"
      ],
      "metadata": {
        "colab": {
          "base_uri": "https://localhost:8080/"
        },
        "id": "QfAdnyqV5Q2l",
        "outputId": "57c6a7a8-8823-4c75-c262-3bb76749bd93"
      },
      "execution_count": 2,
      "outputs": [
        {
          "output_type": "stream",
          "name": "stdout",
          "text": [
            "Question 2: Statistical measures for x\n",
            "Mean: 32.0\n",
            "Median: 28.0\n",
            "Variance: 312.6666666666667\n",
            "Standard Deviation: 17.682382946499793\n",
            "Range: 44\n",
            "Interquartile Range (IQR): 28.0\n",
            "Skewness: 0.18755223867066048\n",
            "Kurtosis: -1.47684021258314\n"
          ]
        }
      ]
    },
    {
      "cell_type": "markdown",
      "source": [
        "QUESTION-3"
      ],
      "metadata": {
        "id": "nWaRsQHN5Vmh"
      }
    },
    {
      "cell_type": "code",
      "source": [
        "print(\"\\nQuestion 2: Statistical measures for y\")\n",
        "for key,value in y_statistics.items():\n",
        "  print(f\"{key}: {value}\")\n",
        "#Question 3:Calculate the statistics for each feature(x and y)\n",
        "data = {'x': x ,'y': y}\n",
        "df = pd.DataFrame(data)\n",
        "#Describe provides a summary that includes some of the requried statistics\n",
        "summary = df.describe()\n",
        "\n",
        "#Manually adding node,skewness,and kurtosis to the summary\n",
        "summary.loc['mode'] = df.mode().iloc[0]\n",
        "summary.loc['skewness'] = df.apply(stats.skew)\n",
        "summary.loc['kurtosis'] = df.apply(stats.kurtosis)\n",
        "\n",
        "#Adding IQR to the summary\n",
        "summary.loc['IQR'] = df.apply(lambda x: np.percentile(x,75)-np.percentile(x,25))\n",
        "#Print the summary\n",
        "print(\"\\nQuestion 3: Summary for x and y\")\n",
        "print(summary)"
      ],
      "metadata": {
        "colab": {
          "base_uri": "https://localhost:8080/"
        },
        "id": "QvmJdIp-5X-j",
        "outputId": "e3a870a1-0ed8-4197-bacb-e9e879f7b037"
      },
      "execution_count": 3,
      "outputs": [
        {
          "output_type": "stream",
          "name": "stdout",
          "text": [
            "\n",
            "Question 2: Statistical measures for y\n",
            "Mean: 60.714285714285715\n",
            "Median: 63.0\n",
            "Variance: 452.23809523809524\n",
            "Standard Deviation: 21.265890417240826\n",
            "Range: 55\n",
            "Interquartile Range (IQR): 32.5\n",
            "Skewness: -0.10160487226954186\n",
            "Kurtosis: -1.4265295827972655\n",
            "\n",
            "Question 3: Summary for x and y\n",
            "                  x          y\n",
            "count      7.000000   7.000000\n",
            "mean      32.000000  60.714286\n",
            "std       17.682383  21.265890\n",
            "min       12.000000  33.000000\n",
            "25%       18.000000  44.000000\n",
            "50%       28.000000  63.000000\n",
            "75%       46.000000  76.500000\n",
            "max       56.000000  88.000000\n",
            "mode      12.000000  33.000000\n",
            "skewness   0.187552  -0.101605\n",
            "kurtosis  -1.476840  -1.426530\n",
            "IQR       28.000000  32.500000\n"
          ]
        }
      ]
    }
  ]
}